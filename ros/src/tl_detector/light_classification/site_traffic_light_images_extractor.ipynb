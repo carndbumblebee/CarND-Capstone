{
 "cells": [
  {
   "cell_type": "code",
   "execution_count": 44,
   "metadata": {},
   "outputs": [],
   "source": [
    "import sys\n",
    "import os\n",
    "import cv2\n",
    "import csv\n",
    "import matplotlib.pyplot as plt\n",
    "import matplotlib.image as mpimg\n",
    "import glob\n",
    "import numpy as np\n",
    "import tensorflow as tf"
   ]
  },
  {
   "cell_type": "code",
   "execution_count": 45,
   "metadata": {},
   "outputs": [],
   "source": [
    "file_names = glob.glob('site_images_traffic_only\\\\*.jpg')"
   ]
  },
  {
   "cell_type": "code",
   "execution_count": 46,
   "metadata": {},
   "outputs": [],
   "source": [
    "def tl_light_classifier(image):\n",
    "    width_to_trim = int(image.shape[1] / 3)\n",
    "    # height_to_trim = int(image.shape[0] / 10)\n",
    "    height_to_trim = 0\n",
    "    sub_image = image[height_to_trim:(image.shape[0]-height_to_trim), width_to_trim:(image.shape[1]-width_to_trim)]\n",
    "    \n",
    "    G_threshold = (200, 255)\n",
    "    R_threshold = (200, 255)\n",
    "    B_threshold = (200, 255)\n",
    "    \n",
    "    R = tl_image[:,:,0]\n",
    "    G = tl_image[:,:,1]\n",
    "    B = tl_image[:,:,2]\n",
    "    \n",
    "    B_binary = np.zeros_like(B)\n",
    "    B_binary[(B > B_threshold[0]) & (B <= B_threshold[1])] = 1\n",
    "    \n",
    "    G_binary = np.zeros_like(G)\n",
    "    G_binary[(G > G_threshold[0]) & (G <= G_threshold[1])] = 1\n",
    "    \n",
    "    R_binary = np.zeros_like(R)\n",
    "    R_binary[(R > R_threshold[0]) & (R <= R_threshold[1])] = 1\n",
    "    \n",
    "    isRed = (np.sum(R_binary) / R_binary.size) > 0.05\n",
    "    isGreen = (np.sum(G_binary) / G_binary.size) > 0.05\n",
    "    isBlue = (np.sum(B_binary) / B_binary.size) > 0.05\n",
    "    \n",
    "    if isRed and isGreen and isBlue:\n",
    "        return (0,255,0)\n",
    "    elif isRed and isGreen:\n",
    "        return (255,255,0)\n",
    "    elif isRed:\n",
    "        return (255,0,0)\n",
    "    elif isGreen:\n",
    "        return (0,255,0)\n",
    "    else:\n",
    "        return (255,255,255)"
   ]
  },
  {
   "cell_type": "code",
   "execution_count": 47,
   "metadata": {},
   "outputs": [],
   "source": [
    "# MODEL_NAME = '..\\\\ssd_mobilenet_v1_coco_2017_11_17'\n",
    "MODEL_NAME = '..\\\\faster_rcnn_inception_v2_coco_2017_11_08'\n",
    "\n",
    "# Path to frozen detection graph. This is the actual model that is used for the object detection.\n",
    "PATH_TO_CKPT = MODEL_NAME + '\\\\frozen_inference_graph.pb'\n",
    "\n",
    "# Load a (frozen) Tensorflow model into memory\n",
    "detection_graph = tf.Graph()\n",
    "with detection_graph.as_default():\n",
    "    od_graph_def = tf.GraphDef()\n",
    "    with tf.gfile.GFile(PATH_TO_CKPT, 'rb') as fid:\n",
    "        serialized_graph = fid.read()\n",
    "        od_graph_def.ParseFromString(serialized_graph)\n",
    "        tf.import_graph_def(od_graph_def, name='')\n",
    "\n",
    "    sess = tf.Session(graph=detection_graph)\n",
    "    # Definite input and output Tensors for detection_graph\n",
    "    image_tensor = detection_graph.get_tensor_by_name('image_tensor:0')\n",
    "    # Each box represents a part of the image where a particular object was detected.\n",
    "    detection_boxes = detection_graph.get_tensor_by_name('detection_boxes:0')\n",
    "    # Each score represent how level of confidence for each of the objects.\n",
    "    # Score is shown on the result image, together with the class label.\n",
    "    detection_scores = detection_graph.get_tensor_by_name('detection_scores:0')\n",
    "    detection_classes = detection_graph.get_tensor_by_name('detection_classes:0')\n",
    "    num_detections = detection_graph.get_tensor_by_name('num_detections:0')"
   ]
  },
  {
   "cell_type": "code",
   "execution_count": 48,
   "metadata": {
    "scrolled": true
   },
   "outputs": [
    {
     "data": {
      "image/png": "[encoded data removed]",
      "text/plain": [
       "<matplotlib.figure.Figure at 0x19d20857ba8>"
      ]
     },
     "metadata": {},
     "output_type": "display_data"
    }
   ],
   "source": [
    "image = cv2.imread(file_names[4])\n",
    "image = cv2.cvtColor(image, cv2.COLOR_BGR2RGB)\n",
    "\n",
    "# Expand dimensions since the model expects images to have shape: [1, None, None, 3]\n",
    "image_np_expanded = np.expand_dims(image, axis=0)\n",
    "\n",
    "with detection_graph.as_default():\n",
    "    (boxes, scores, classes, num) = sess.run(\n",
    "        [detection_boxes, detection_scores, detection_classes, num_detections],\n",
    "        feed_dict={image_tensor: image_np_expanded})\n",
    "\n",
    "boxes = np.squeeze(boxes)\n",
    "classes = np.squeeze(classes).astype(np.int32)\n",
    "scores = np.squeeze(scores)\n",
    "\n",
    "for idx, val in enumerate(classes):\n",
    "    if val == 10:\n",
    "        break\n",
    "\n",
    "if scores[idx] >= 0.01:\n",
    "    nbox = boxes[idx]\n",
    "\n",
    "    height = image.shape[0]\n",
    "    width = image.shape[1]\n",
    "\n",
    "    box = np.array([nbox[0]*height, nbox[1]*width, nbox[2]*height, nbox[3]*width]).astype(int)\n",
    "    tl_image = image[box[0]:box[2], box[1]:box[3]]\n",
    "    \n",
    "    colour = tl_light_classifier(tl_image)\n",
    "    \n",
    "    cv2.rectangle(image, (box[1],box[0]), (box[3],box[2]), colour, 5)\n",
    "    \n",
    "    plt.figure\n",
    "    plt.imshow(tl_image)\n",
    "    plt.show()"
   ]
  },
  {
   "cell_type": "code",
   "execution_count": 49,
   "metadata": {},
   "outputs": [],
   "source": [
    "out_dir = 'site_traffic_light_images_out\\\\'\n",
    "\n",
    "for filename in file_names:\n",
    "    head, tail = os.path.split(filename)\n",
    "    image = cv2.imread(filename)\n",
    "    image = cv2.cvtColor(image, cv2.COLOR_BGR2RGB)\n",
    "    \n",
    "    # Expand dimensions since the model expects images to have shape: [1, None, None, 3]\n",
    "    image_np_expanded = np.expand_dims(image, axis=0)\n",
    "\n",
    "    with detection_graph.as_default():\n",
    "        (boxes, scores, classes, num) = sess.run(\n",
    "            [detection_boxes, detection_scores, detection_classes, num_detections],\n",
    "            feed_dict={image_tensor: image_np_expanded})\n",
    "\n",
    "    boxes = np.squeeze(boxes)\n",
    "    classes = np.squeeze(classes).astype(np.int32)\n",
    "    scores = np.squeeze(scores)\n",
    "\n",
    "    for idx, val in enumerate(classes):\n",
    "        if val == 10:\n",
    "            break\n",
    "\n",
    "    if scores[idx] >= 0.1:\n",
    "        nbox = boxes[idx]\n",
    "\n",
    "        height = image.shape[0]\n",
    "        width = image.shape[1]\n",
    "\n",
    "        box = np.array([nbox[0]*height, nbox[1]*width, nbox[2]*height, nbox[3]*width]).astype(int)\n",
    "        tl_image = image[box[0]:box[2], box[1]:box[3]]\n",
    "\n",
    "        colour = tl_light_classifier(tl_image)\n",
    "        \n",
    "        cv2.rectangle(image, (box[1],box[0]), (box[3],box[2]), colour, 5)\n",
    "    \n",
    "    image = cv2.cvtColor(image, cv2.COLOR_RGB2BGR)\n",
    "    cv2.imwrite(out_dir + tail, image)"
   ]
  },
  {
   "cell_type": "code",
   "execution_count": 53,
   "metadata": {},
   "outputs": [
    {
     "data": {
      "image/png": "[encoded data removed]",
      "text/plain": [
       "<matplotlib.figure.Figure at 0x19d208d70f0>"
      ]
     },
     "metadata": {},
     "output_type": "display_data"
    }
   ],
   "source": [
    "image = cv2.imread('site_images_traffic_only\\\\left0458.jpg')\n",
    "image = cv2.cvtColor(image, cv2.COLOR_BGR2RGB)\n",
    "\n",
    "# Expand dimensions since the model expects images to have shape: [1, None, None, 3]\n",
    "image_np_expanded = np.expand_dims(image, axis=0)\n",
    "\n",
    "with detection_graph.as_default():\n",
    "    (boxes, scores, classes, num) = sess.run(\n",
    "        [detection_boxes, detection_scores, detection_classes, num_detections],\n",
    "        feed_dict={image_tensor: image_np_expanded})\n",
    "\n",
    "boxes = np.squeeze(boxes)\n",
    "classes = np.squeeze(classes).astype(np.int32)\n",
    "scores = np.squeeze(scores)\n",
    "\n",
    "for idx, val in enumerate(classes):\n",
    "    if val == 10:\n",
    "        break\n",
    "\n",
    "if scores[idx] >= 0.01:\n",
    "    nbox = boxes[idx]\n",
    "\n",
    "    height = image.shape[0]\n",
    "    width = image.shape[1]\n",
    "\n",
    "    box = np.array([nbox[0]*height, nbox[1]*width, nbox[2]*height, nbox[3]*width]).astype(int)\n",
    "    tl_image = image[box[0]:box[2], box[1]:box[3]]\n",
    "    \n",
    "    colour = tl_light_classifier(tl_image)\n",
    "    \n",
    "    cv2.rectangle(image, (box[1],box[0]), (box[3],box[2]), colour, 5)\n",
    "    \n",
    "    plt.figure\n",
    "    plt.imshow(tl_image)\n",
    "    plt.show()"
   ]
  },
  {
   "cell_type": "code",
   "execution_count": 54,
   "metadata": {},
   "outputs": [
    {
     "data": {
      "image/png": "[encoded data removed]",
      "text/plain": [
       "<matplotlib.figure.Figure at 0x19d2048ce10>"
      ]
     },
     "metadata": {},
     "output_type": "display_data"
    },
    {
     "name": "stdout",
     "output_type": "stream",
     "text": [
      "0.458705357143\n",
      "0.3828125\n"
     ]
    }
   ],
   "source": [
    "plt.figure()\n",
    "\n",
    "G_threshold = (200, 255)\n",
    "R_threshold = (200, 255)\n",
    "B_threshold = (200, 255)\n",
    "\n",
    "idx = 0\n",
    "R = tl_image[:,:,0]\n",
    "G = tl_image[:,:,1]\n",
    "B = tl_image[:,:,2]\n",
    "\n",
    "plt.subplot(1, 3, 1)\n",
    "B_binary = np.zeros_like(B)\n",
    "B_binary[(B > B_threshold[0]) & (B <= B_threshold[1])] = 1\n",
    "plt.imshow(B_binary, cmap='gray')\n",
    "if (idx == 0):\n",
    "    plt.title(\"B\")\n",
    "\n",
    "plt.subplot(1, 3, 2)\n",
    "G_binary = np.zeros_like(G)\n",
    "G_binary[(G > G_threshold[0]) & (G <= G_threshold[1])] = 1\n",
    "plt.imshow(G_binary, cmap='gray')\n",
    "if (idx == 0):\n",
    "    plt.title(\"G\")\n",
    "\n",
    "plt.subplot(1, 3, 3)\n",
    "R_binary = np.zeros_like(G)\n",
    "R_binary[(R > R_threshold[0]) & (R <= R_threshold[1])] = 1\n",
    "plt.imshow(R_binary, cmap='gray')\n",
    "if (idx == 0):\n",
    "    plt.title(\"R\")\n",
    "    \n",
    "plt.show()\n",
    "\n",
    "isRed = (np.sum(R_binary) / R_binary.size) > 0.05\n",
    "isGreen = (np.sum(G_binary) / G_binary.size) > 0.05\n",
    "isBlue = (np.sum(B_binary) / B_binary.size) > 0.05\n",
    "\n",
    "print((np.sum(R_binary) / R_binary.size))\n",
    "print((np.sum(G_binary) / G_binary.size))"
   ]
  },
  {
   "cell_type": "code",
   "execution_count": null,
   "metadata": {},
   "outputs": [],
   "source": []
  }
 ],
 "metadata": {
  "kernelspec": {
   "display_name": "Python 3",
   "language": "python",
   "name": "python3"
  },
  "language_info": {
   "codemirror_mode": {
    "name": "ipython",
    "version": 3
   },
   "file_extension": ".py",
   "mimetype": "text/x-python",
   "name": "python",
   "nbconvert_exporter": "python",
   "pygments_lexer": "ipython3",
   "version": "3.5.2"
  },
  "widgets": {
   "state": {},
   "version": "1.1.2"
  }
 },
 "nbformat": 4,
 "nbformat_minor": 2
}
