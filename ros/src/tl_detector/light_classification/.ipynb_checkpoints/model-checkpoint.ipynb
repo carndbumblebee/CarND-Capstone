{
 "cells": [
  {
   "cell_type": "markdown",
   "metadata": {},
   "source": [
    "# Model"
   ]
  },
  {
   "cell_type": "markdown",
   "metadata": {},
   "source": [
    "## Libraries"
   ]
  },
  {
   "cell_type": "code",
   "execution_count": null,
   "metadata": {},
   "outputs": [],
   "source": [
    "from keras.applications.mobilenet import MobileNet\n",
    "from keras.preprocessing import image\n",
    "from keras.applications.mobilenet import preprocess_input\n",
    "from keras.models import Model\n",
    "from keras.layers import Dense, Flatten, Input, GlobalAveragePooling2D, Dropout\n",
    "import numpy as np\n",
    "import os\n",
    "import csv\n",
    "import cv2\n",
    "import sklearn\n",
    "from sklearn.model_selection import train_test_split\n",
    "import matplotlib.pyplot as plt\n",
    "import matplotlib.image as mpimg\n",
    "import tensorflow as tf\n",
    "from keras import callbacks\n",
    "from keras.optimizers import Adam"
   ]
  },
  {
   "cell_type": "code",
   "execution_count": null,
   "metadata": {},
   "outputs": [],
   "source": [
    "data_location = './traffic_light_images/'"
   ]
  },
  {
   "cell_type": "markdown",
   "metadata": {},
   "source": [
    "## Load Training Logs"
   ]
  },
  {
   "cell_type": "code",
   "execution_count": null,
   "metadata": {},
   "outputs": [],
   "source": [
    "samples = []\n",
    "with open(data_location + 'labels.csv') as csvfile:\n",
    "    reader = csv.reader(csvfile)\n",
    "    for line in reader:\n",
    "        samples.append(line)\n",
    "\n",
    "# to remove header in Udacity dataset\n",
    "# can leave it in for recorded data as missing one frame is negligible\n",
    "#samples.pop(0)"
   ]
  },
  {
   "cell_type": "markdown",
   "metadata": {},
   "source": [
    "## Split Training and Validation Samples"
   ]
  },
  {
   "cell_type": "code",
   "execution_count": null,
   "metadata": {},
   "outputs": [],
   "source": [
    "train_samples, validation_samples = train_test_split(samples, test_size = 0.2)"
   ]
  },
  {
   "cell_type": "markdown",
   "metadata": {},
   "source": [
    "## Image Preprocessing"
   ]
  },
  {
   "cell_type": "code",
   "execution_count": null,
   "metadata": {},
   "outputs": [],
   "source": [
    "def image_preprocessing(image):\n",
    "    return cv2.resize(image, (128, 128), interpolation = cv2.INTER_LINEAR)"
   ]
  },
  {
   "cell_type": "markdown",
   "metadata": {},
   "source": [
    "## Data Visualization"
   ]
  },
  {
   "cell_type": "code",
   "execution_count": null,
   "metadata": {
    "scrolled": true
   },
   "outputs": [],
   "source": [
    "m = np.random.randint(0,len(samples))\n",
    "print('training example m :', m)\n",
    "\n",
    "sample = samples[m]\n",
    "image = cv2.imread(data_location + sample[0])\n",
    "\n",
    "plt.figure\n",
    "\n",
    "plt.imshow(image)\n",
    "\n",
    "plt.show()\n",
    "\n",
    "print(sample[1])"
   ]
  },
  {
   "cell_type": "code",
   "execution_count": null,
   "metadata": {},
   "outputs": [],
   "source": [
    "for i, sample in enumerate(samples):\n",
    "    image = cv2.imread(data_location + sample[0])\n",
    "    print(data_location + sample[0])\n",
    "    print(image.shape)\n",
    "    image_preprocessing(image)"
   ]
  },
  {
   "cell_type": "markdown",
   "metadata": {},
   "source": [
    "## Generators"
   ]
  },
  {
   "cell_type": "code",
   "execution_count": 1,
   "metadata": {},
   "outputs": [],
   "source": [
    "def generator_training(samples, batch_size=32):\n",
    "    while 1: # Loop forever so the generator never terminates\n",
    "        sklearn.utils.shuffle(samples)\n",
    "        for offset in range(0, len(samples), batch_size):\n",
    "            batch_samples = samples[offset:offset+batch_size]\n",
    "\n",
    "            images = []\n",
    "            labels = []\n",
    "            for batch_sample in batch_samples:\n",
    "                image = cv2.imread(data_location + batch_sample[0])\n",
    "                if not image.empty():\n",
    "                    label = 0\n",
    "                    if batch_sample[1] == 'Green':\n",
    "                        label = 1\n",
    "                    images.append(image_preprocessing(image))\n",
    "                    labels.append(label)\n",
    "\n",
    "            X_train = np.array(images)\n",
    "            y_train = np.array(labels)\n",
    "            yield sklearn.utils.shuffle(X_train, y_train)"
   ]
  },
  {
   "cell_type": "code",
   "execution_count": null,
   "metadata": {},
   "outputs": [],
   "source": [
    "def generator_validation(samples, batch_size=32):\n",
    "    while 1: # Loop forever so the generator never terminates\n",
    "        sklearn.utils.shuffle(samples)\n",
    "        for offset in range(0, len(samples), batch_size):\n",
    "            batch_samples = samples[offset:offset+batch_size]\n",
    "\n",
    "            images = []\n",
    "            labels = []\n",
    "            for batch_sample in batch_samples:\n",
    "                image = cv2.imread(data_location + batch_sample[0])\n",
    "                if not image.empty():\n",
    "                    label = 0\n",
    "                    if batch_sample[1] == 'Green':\n",
    "                        label = 1\n",
    "                    images.append(image_preprocessing(image))\n",
    "                    labels.append(label)\n",
    "\n",
    "            X_valid = np.array(images)\n",
    "            y_valid = np.array(labels)\n",
    "            yield sklearn.utils.shuffle(X_valid, y_valid)"
   ]
  },
  {
   "cell_type": "code",
   "execution_count": null,
   "metadata": {},
   "outputs": [],
   "source": [
    "# compile and train the model using the generator function\n",
    "train_generator = generator_training(train_samples, batch_size = 256)\n",
    "validation_generator = generator_validation(validation_samples, batch_size = 256)"
   ]
  },
  {
   "cell_type": "markdown",
   "metadata": {},
   "source": [
    "## Model Architecture"
   ]
  },
  {
   "cell_type": "code",
   "execution_count": null,
   "metadata": {},
   "outputs": [],
   "source": [
    "# create the base pre-trained model\n",
    "input_shape = (128, 128, 3)\n",
    "input_tensor = Input(shape=input_shape)\n",
    "    \n",
    "base_model = MobileNet(input_tensor=input_tensor, input_shape=input_shape, weights='imagenet', include_top=False)"
   ]
  },
  {
   "cell_type": "code",
   "execution_count": null,
   "metadata": {
    "scrolled": false
   },
   "outputs": [],
   "source": [
    "# add a global spatial average pooling layer\n",
    "x = base_model.output\n",
    "x = GlobalAveragePooling2D()(x)\n",
    "\n",
    "# add the fully-connected\n",
    "# layer similar to the NVIDIA paper\n",
    "x = Dense(100, activation='elu')(x)\n",
    "x = Dropout(0.5)(x)\n",
    "x = Dense(50, activation='elu')(x)\n",
    "x = Dropout(0.3)(x)\n",
    "x = Dense(10, activation='elu')(x)\n",
    "x = Dropout(0.1)(x)\n",
    "predictions = Dense(1)(x)\n",
    "\n",
    "# create the full model\n",
    "model = Model(inputs=base_model.input, outputs=predictions)\n",
    "\n",
    "# freeze all convolutional layers to initialize the top layers\n",
    "for layer in base_model.layers:\n",
    "    layer.trainable = False"
   ]
  },
  {
   "cell_type": "markdown",
   "metadata": {},
   "source": [
    "## Training the Model"
   ]
  },
  {
   "cell_type": "code",
   "execution_count": null,
   "metadata": {
    "scrolled": false
   },
   "outputs": [],
   "source": [
    "model_path = os.path.expanduser('model.h5')\n",
    "save_best = callbacks.ModelCheckpoint(model_path, \n",
    "                                      monitor = 'val_loss', \n",
    "                                      verbose = 1, \n",
    "                                      save_best_only = True, \n",
    "                                      mode = 'min')\n",
    "early_stop = callbacks.EarlyStopping(monitor = 'val_loss', \n",
    "                                     min_delta = 0.001, \n",
    "                                     patience = 3, \n",
    "                                     verbose = 0, \n",
    "                                     mode = 'auto')\n",
    "callbacks_list = [early_stop, save_best]    \n",
    "    \n",
    "model.compile(loss = 'mse', optimizer = 'adam')\n",
    "\n",
    "history_object = model.fit_generator(train_generator, \n",
    "                                     samples_per_epoch = len(train_samples),\n",
    "                                     validation_data = validation_generator,\n",
    "                                     nb_val_samples = len(validation_samples),\n",
    "                                     nb_epoch = 15,\n",
    "                                     callbacks = callbacks_list)"
   ]
  },
  {
   "cell_type": "markdown",
   "metadata": {},
   "source": [
    "## Visualize losses"
   ]
  },
  {
   "cell_type": "code",
   "execution_count": null,
   "metadata": {},
   "outputs": [],
   "source": [
    "# plot the training and validation loss for each epoch\n",
    "plt.figure\n",
    "plt.plot(history_object.history['loss'])\n",
    "plt.plot(history_object.history['val_loss'])\n",
    "plt.title('model mean squared error loss')\n",
    "plt.ylabel('mean squared error loss')\n",
    "plt.xlabel('epoch')\n",
    "plt.legend(['training set', 'validation set'], loc='upper right')\n",
    "plt.show()"
   ]
  }
 ],
 "metadata": {
  "kernelspec": {
   "display_name": "Python 3",
   "language": "python",
   "name": "python3"
  },
  "language_info": {
   "codemirror_mode": {
    "name": "ipython",
    "version": 3
   },
   "file_extension": ".py",
   "mimetype": "text/x-python",
   "name": "python",
   "nbconvert_exporter": "python",
   "pygments_lexer": "ipython3",
   "version": "3.5.2"
  },
  "widgets": {
   "state": {},
   "version": "1.1.2"
  }
 },
 "nbformat": 4,
 "nbformat_minor": 2
}
