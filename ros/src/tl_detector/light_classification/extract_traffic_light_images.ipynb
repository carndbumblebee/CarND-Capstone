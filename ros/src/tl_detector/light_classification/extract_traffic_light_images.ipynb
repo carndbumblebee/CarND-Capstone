{
 "cells": [
  {
   "cell_type": "code",
   "execution_count": 6,
   "metadata": {},
   "outputs": [],
   "source": [
    "import sys\n",
    "import os\n",
    "import cv2\n",
    "from read_label_file import get_all_labels\n",
    "import csv"
   ]
  },
  {
   "cell_type": "code",
   "execution_count": 7,
   "metadata": {},
   "outputs": [],
   "source": [
    "def ir(some_value):\n",
    "    \"\"\"Int-round function for short array indexing \"\"\"\n",
    "    return int(round(some_value))"
   ]
  },
  {
   "cell_type": "code",
   "execution_count": 8,
   "metadata": {},
   "outputs": [],
   "source": [
    "def show_label_images(input_yaml, output_folder=None):\n",
    "    \"\"\"\n",
    "    Shows and draws pictures with labeled traffic lights.\n",
    "    Can save pictures.\n",
    "    :param input_yaml: Path to yaml file\n",
    "    :param output_folder: If None, do not save picture. Else enter path to folder\n",
    "    \"\"\"\n",
    "    images = get_all_labels(input_yaml)\n",
    "    f = open('./traffic_light_images/labels.csv', 'w')\n",
    "    writer = csv.writer(f, lineterminator = '\\n')\n",
    "\n",
    "    if output_folder is not None:\n",
    "        if not os.path.exists(output_folder):\n",
    "            os.makedirs(output_folder)\n",
    "\n",
    "    for i, image_dict in enumerate(images):\n",
    "        image = cv2.imread(image_dict['path'])\n",
    "        if image is None:\n",
    "            raise IOError('Could not open image path', image_dict['path'])\n",
    "\n",
    "        for j, box in enumerate(image_dict['boxes']):\n",
    "            image_name = str(i) + '_' + str(j) + '_' + os.path.basename(image_dict['path'])\n",
    "            out_image = image[ir(box['y_min']):ir(box['y_max']), ir(box['x_min']):ir(box['x_max'])]\n",
    "            writer.writerow([image_name, box['label']])\n",
    "            cv2.imwrite(os.path.join(output_folder, image_name), out_image)\n",
    "\n",
    "    f.close()"
   ]
  },
  {
   "cell_type": "code",
   "execution_count": 9,
   "metadata": {},
   "outputs": [],
   "source": [
    "label_file = './dataset_train_rgb/train.yaml'\n",
    "output_folder = './traffic_light_images'"
   ]
  },
  {
   "cell_type": "code",
   "execution_count": 10,
   "metadata": {},
   "outputs": [],
   "source": [
    "show_label_images(label_file, output_folder)"
   ]
  },
  {
   "cell_type": "code",
   "execution_count": null,
   "metadata": {},
   "outputs": [],
   "source": []
  }
 ],
 "metadata": {
  "kernelspec": {
   "display_name": "Python 3",
   "language": "python",
   "name": "python3"
  },
  "language_info": {
   "codemirror_mode": {
    "name": "ipython",
    "version": 3
   },
   "file_extension": ".py",
   "mimetype": "text/x-python",
   "name": "python",
   "nbconvert_exporter": "python",
   "pygments_lexer": "ipython3",
   "version": "3.5.2"
  },
  "widgets": {
   "state": {},
   "version": "1.1.2"
  }
 },
 "nbformat": 4,
 "nbformat_minor": 2
}
